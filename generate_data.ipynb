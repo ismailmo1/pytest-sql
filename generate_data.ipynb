{
 "cells": [
  {
   "cell_type": "markdown",
   "metadata": {},
   "source": [
    "## Data generation for populating a database\n",
    "\n",
    "The database serves an API with only one endpoint: \"/net_calories?start_date=<`startdate`>&end_date=<`enddate`>\" that returns a value for net calories burned on the requested date. This is calculated with a SQL query that aggregates total consumption and total expenditure. For the purpose of the demo, we are adding another data source - the treadmill  to this SQL query so that we can demonstrate a method to test this change.\n",
    "\n",
    "\n",
    "Tables:\n",
    "1. Food Consumption - date, quantity and food_id\n",
    "2. Food details - reference data to map food_id to name, unit_of_measure and calories\n",
    "3. Exercise Bike - date, average watts, and total cycling time\n",
    "4. Treadmill - date, speed, incline% and total running time <- this will be the new data source we add "
   ]
  },
  {
   "cell_type": "code",
   "execution_count": 79,
   "metadata": {},
   "outputs": [],
   "source": [
    "import pandas as pd\n",
    "import datetime as dt\n",
    "from faker import Faker\n",
    "from faker_food import FoodProvider\n",
    "import random"
   ]
  },
  {
   "cell_type": "markdown",
   "metadata": {},
   "source": [
    "We can use faker and the faker-food package to populate foods and measurement columns"
   ]
  },
  {
   "cell_type": "code",
   "execution_count": 80,
   "metadata": {},
   "outputs": [],
   "source": [
    "from faker_food import dishes\n",
    "fake = Faker()\n",
    "fake.add_provider(FoodProvider)"
   ]
  },
  {
   "cell_type": "markdown",
   "metadata": {},
   "source": [
    "Create the food_ref table to map food_id to food attributes"
   ]
  },
  {
   "cell_type": "code",
   "execution_count": 81,
   "metadata": {},
   "outputs": [],
   "source": [
    "dishes_ref = [(idx, dish) for (idx,dish) in enumerate(dishes)]\n",
    "\n",
    "food_ref_df = pd.DataFrame(dishes_ref)\n",
    "\n",
    "food_ref_df.rename({0:'id', 1:'name'}, axis=1, inplace=True)\n",
    "\n",
    "food_ref_df['kcal/unit'] = [random.randint(0,10) for i in range(len(food_ref_df))]\n",
    "\n",
    "uoms = [\"kg\", \"g\", \"ml\", \"tbsp\", \"tsp\"]\n",
    "food_ref_df['unit_of_measure'] = [random.choice(uoms) for i in range(len(food_ref_df))]\n",
    "food_cons_df = pd.DataFrame()\n"
   ]
  },
  {
   "cell_type": "markdown",
   "metadata": {},
   "source": [
    "Create food_cons to track daily food entries"
   ]
  },
  {
   "cell_type": "code",
   "execution_count": 82,
   "metadata": {},
   "outputs": [],
   "source": [
    "food_cons_df = pd.DataFrame()\n",
    "\n",
    "# 3 meal entries a day\n",
    "date_entries = pd.date_range(start=dt.date(2022, 10,1), end=dt.date(2022, 10,30)).repeat(3)\n",
    "food_cons_df['date'] = date_entries\n",
    "food_cons_df['food_id'] = [random.randint(0,36) for i in range(len(food_cons_df))]\n",
    "food_cons_df['qty'] = [random.randint(0, 1000)/10 for i in range(len(food_cons_df))]"
   ]
  },
  {
   "cell_type": "markdown",
   "metadata": {},
   "source": [
    "Create exercise_bike table - records data to help calculate expenditure\n",
    "\n",
    "use METs to calculate calories (https://metscalculator.com/)"
   ]
  },
  {
   "cell_type": "code",
   "execution_count": 83,
   "metadata": {},
   "outputs": [],
   "source": [
    "exercise_bike_df = pd.DataFrame()\n",
    "\n",
    "exercise_bike_df['date'] = [random.choice(date_entries.unique()) for i in range(14)]\n",
    "exercise_bike_df['speed_mph'] = [random.randint(1, 300)/10 for i in range(14)]\n",
    "exercise_bike_df['duration_min'] = [random.randint(10, 120) for i in range(14)]"
   ]
  },
  {
   "cell_type": "markdown",
   "metadata": {},
   "source": [
    "Create treadmill table"
   ]
  },
  {
   "cell_type": "code",
   "execution_count": 84,
   "metadata": {},
   "outputs": [],
   "source": [
    "treadmill_df = pd.DataFrame()\n",
    "\n",
    "treadmill_df['date'] = [random.choice(date_entries.unique()) for i in range(14)]\n",
    "treadmill_df['speed_mph'] = [random.randint(1, 300)/10 for i in range(14)]\n",
    "treadmill_df['incline_%'] = [random.randint(1, 150)/10 for i in range(14)]\n",
    "treadmill_df['duration_min'] = [random.randint(10, 120) for i in range(14)]"
   ]
  },
  {
   "cell_type": "code",
   "execution_count": 86,
   "metadata": {},
   "outputs": [],
   "source": [
    "from sqlalchemy import create_engine\n",
    "\n",
    "engine = create_engine(\"postgresql://postgres@localhost:5432\")\n",
    "\n",
    "with engine.connect() as con:\n",
    "    food_cons_df.to_sql(\"food_cons\", index=False, con=con, if_exists='replace')\n",
    "    food_ref_df.to_sql(\"food_ref\", index=False, con=con, if_exists='replace')\n",
    "    exercise_bike_df.to_sql(\"bike\", index=False, con=con, if_exists='replace')\n",
    "    treadmill_df.to_sql(\"treadmill\", index=False, con=con, if_exists='replace')\n",
    "    "
   ]
  }
 ],
 "metadata": {
  "kernelspec": {
   "display_name": "Python 3.10.6 ('venv': venv)",
   "language": "python",
   "name": "python3"
  },
  "language_info": {
   "codemirror_mode": {
    "name": "ipython",
    "version": 3
   },
   "file_extension": ".py",
   "mimetype": "text/x-python",
   "name": "python",
   "nbconvert_exporter": "python",
   "pygments_lexer": "ipython3",
   "version": "3.10.6"
  },
  "orig_nbformat": 4,
  "vscode": {
   "interpreter": {
    "hash": "8c80b131235a98c9f37fad261b8b66ad515d1a4b9d30f8e0919835e4f8196661"
   }
  }
 },
 "nbformat": 4,
 "nbformat_minor": 2
}
